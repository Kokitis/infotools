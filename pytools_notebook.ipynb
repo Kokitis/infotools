{
 "cells": [
  {
   "cell_type": "code",
   "execution_count": 1,
   "metadata": {
    "collapsed": true
   },
   "outputs": [
    {
     "name": "stdout",
     "output_type": "stream",
     "text": [
      "['__builtins__',\n '__cached__',\n '__doc__',\n '__file__',\n '__loader__',\n '__name__',\n '__package__',\n '__path__',\n '__spec__',\n 'filetools',\n 'filewidgets',\n 'os',\n 'searchForDuplicateFiles']\n"
     ]
    }
   ],
   "source": [
    "from package import widgets\n",
    "from pprint import pprint\n",
    "pprint(dir(widgets))\n",
    "import os\n",
    "folder = os.path.join(os.getenv('USERPROFILE'), 'Google Drive')\n",
    "result = widgets.searchForDuplicateFiles(folder, 'md5')"
   ]
  },
  {
   "cell_type": "code",
   "execution_count": 2,
   "metadata": {},
   "outputs": [],
   "source": [
    "pprint(result)"
   ]
  }
 ],
 "metadata": {
  "kernelspec": {
   "display_name": "Python 2",
   "language": "python",
   "name": "python2"
  },
  "language_info": {
   "codemirror_mode": {
    "name": "ipython",
    "version": 2
   },
   "file_extension": ".py",
   "mimetype": "text/x-python",
   "name": "python",
   "nbconvert_exporter": "python",
   "pygments_lexer": "ipython2",
   "version": "2.7.6"
  }
 },
 "nbformat": 4,
 "nbformat_minor": 0
}
