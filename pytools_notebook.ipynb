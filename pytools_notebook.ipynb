{
 "cells": [
  {
   "cell_type": "code",
   "execution_count": 11,
   "metadata": {
    "collapsed": true
   },
   "outputs": [
    {
     "name": "stderr",
     "output_type": "stream",
     "text": [
      "\r                                                                               \r\rN/A% (0 of 3198) |                       | Elapsed Time: 0:00:00 ETA:  --:--:--"
     ]
    },
    {
     "name": "stdout",
     "output_type": "stream",
     "text": [
      "Searching for duplicate files...\nSearching through 3198 total files\n"
     ]
    },
    {
     "name": "stderr",
     "output_type": "stream",
     "text": [
      "\r                                                                               \r\r  0% (1 of 3198) |                        | Elapsed Time: 0:00:02 ETA:  2:14:05"
     ]
    },
    {
     "name": "stderr",
     "output_type": "stream",
     "text": [
      "\r                                                                               \r\r  0% (3 of 3198) |                        | Elapsed Time: 0:00:02 ETA:  0:46:54"
     ]
    },
    {
     "name": "stderr",
     "output_type": "stream",
     "text": [
      "\r                                                                               \r\r  0% (7 of 3198) |                        | Elapsed Time: 0:00:02 ETA:  0:20:51"
     ]
    },
    {
     "name": "stderr",
     "output_type": "stream",
     "text": [
      "\r                                                                               \r\r  0% (10 of 3198) |                       | Elapsed Time: 0:00:02 ETA:  0:15:27"
     ]
    },
    {
     "name": "stderr",
     "output_type": "stream",
     "text": [
      "\r                                                                               \r\r  0% (11 of 3198) |                       | Elapsed Time: 0:00:03 ETA:  0:14:46"
     ]
    },
    {
     "name": "stderr",
     "output_type": "stream",
     "text": [
      "\r                                                                               \r\r  0% (14 of 3198) |                       | Elapsed Time: 0:00:03 ETA:  0:12:49"
     ]
    },
    {
     "name": "stderr",
     "output_type": "stream",
     "text": [
      "\r                                                                               \r\r  0% (16 of 3198) |                       | Elapsed Time: 0:00:03 ETA:  0:11:50"
     ]
    },
    {
     "name": "stderr",
     "output_type": "stream",
     "text": [
      "\r                                                                               \r\r  0% (17 of 3198) |                       | Elapsed Time: 0:00:03 ETA:  0:12:24"
     ]
    },
    {
     "name": "stderr",
     "output_type": "stream",
     "text": [
      "\r                                                                               \r\r  0% (18 of 3198) |                       | Elapsed Time: 0:00:04 ETA:  0:12:05"
     ]
    },
    {
     "name": "stderr",
     "output_type": "stream",
     "text": [
      "\r                                                                               \r\r  0% (19 of 3198) |                       | Elapsed Time: 0:00:05 ETA:  0:13:57"
     ]
    },
    {
     "name": "stderr",
     "output_type": "stream",
     "text": [
      "\r                                                                               \r\r  0% (21 of 3198) |                       | Elapsed Time: 0:00:05 ETA:  0:13:09"
     ]
    },
    {
     "name": "stderr",
     "output_type": "stream",
     "text": [
      "\r                                                                               \r"
     ]
    },
    {
     "name": "stderr",
     "output_type": "stream",
     "text": [
      "\r  0% (23 of 3198) |                       | Elapsed Time: 0:00:05 ETA:  0:12:28"
     ]
    },
    {
     "name": "stderr",
     "output_type": "stream",
     "text": [
      "\r                                                                               \r\r  0% (31 of 3198) |                       | Elapsed Time: 0:00:05 ETA:  0:09:37"
     ]
    },
    {
     "name": "stderr",
     "output_type": "stream",
     "text": [
      "\r                                                                               \r\r  1% (32 of 3198) |                       | Elapsed Time: 0:00:06 ETA:  0:10:17"
     ]
    },
    {
     "name": "stderr",
     "output_type": "stream",
     "text": [
      "\r                                                                               \r\r  1% (35 of 3198) |                       | Elapsed Time: 0:00:06 ETA:  0:10:30"
     ]
    },
    {
     "name": "stderr",
     "output_type": "stream",
     "text": [
      "\r                                                                               \r\r  1% (36 of 3198) |                       | Elapsed Time: 0:00:07 ETA:  0:10:30"
     ]
    },
    {
     "name": "stderr",
     "output_type": "stream",
     "text": [
      "\r                                                                               \r\r  1% (37 of 3198) |                       | Elapsed Time: 0:00:07 ETA:  0:10:30"
     ]
    },
    {
     "name": "stderr",
     "output_type": "stream",
     "text": [
      "\r                                                                               \r\r  1% (39 of 3198) |                       | Elapsed Time: 0:00:07 ETA:  0:10:10"
     ]
    },
    {
     "name": "stderr",
     "output_type": "stream",
     "text": [
      "\r                                                                               \r\r  1% (41 of 3198) |                       | Elapsed Time: 0:00:07 ETA:  0:10:04"
     ]
    },
    {
     "name": "stderr",
     "output_type": "stream",
     "text": [
      "\r                                                                               \r\r  1% (42 of 3198) |                       | Elapsed Time: 0:00:07 ETA:  0:10:00"
     ]
    },
    {
     "name": "stderr",
     "output_type": "stream",
     "text": [
      "\r                                                                               \r\r  1% (47 of 3198) |                       | Elapsed Time: 0:00:08 ETA:  0:09:02"
     ]
    },
    {
     "name": "stderr",
     "output_type": "stream",
     "text": [
      "\r                                                                               \r\r  1% (50 of 3198) |                       | Elapsed Time: 0:00:08 ETA:  0:08:36"
     ]
    },
    {
     "name": "stderr",
     "output_type": "stream",
     "text": [
      "\r                                                                               \r\r  1% (54 of 3198) |                       | Elapsed Time: 0:00:08 ETA:  0:08:04"
     ]
    },
    {
     "name": "stderr",
     "output_type": "stream",
     "text": [
      "\r                                                                               \r\r  1% (58 of 3198) |                       | Elapsed Time: 0:00:08 ETA:  0:07:38"
     ]
    },
    {
     "name": "stderr",
     "output_type": "stream",
     "text": [
      "\r                                                                               \r\r  1% (62 of 3198) |                       | Elapsed Time: 0:00:09 ETA:  0:07:39"
     ]
    },
    {
     "name": "stderr",
     "output_type": "stream",
     "text": [
      "\r                                                                               \r\r  2% (64 of 3198) |                       | Elapsed Time: 0:00:09 ETA:  0:07:46"
     ]
    },
    {
     "name": "stderr",
     "output_type": "stream",
     "text": [
      "\r                                                                               \r\r  2% (65 of 3198) |                       | Elapsed Time: 0:00:09 ETA:  0:07:55"
     ]
    },
    {
     "name": "stderr",
     "output_type": "stream",
     "text": [
      "\r                                                                               \r\r  2% (66 of 3198) |                       | Elapsed Time: 0:00:09 ETA:  0:07:53"
     ]
    },
    {
     "name": "stderr",
     "output_type": "stream",
     "text": [
      "\r                                                                               \r\r  2% (67 of 3198) |                       | Elapsed Time: 0:00:10 ETA:  0:07:58"
     ]
    },
    {
     "name": "stderr",
     "output_type": "stream",
     "text": [
      "\r                                                                               \r\r  2% (72 of 3198) |                       | Elapsed Time: 0:00:10 ETA:  0:07:31"
     ]
    },
    {
     "name": "stderr",
     "output_type": "stream",
     "text": [
      "\r                                                                               \r\r  2% (74 of 3198) |                       | Elapsed Time: 0:00:10 ETA:  0:05:45"
     ]
    },
    {
     "name": "stderr",
     "output_type": "stream",
     "text": [
      "\r                                                                               \r\r  2% (77 of 3198) |                       | Elapsed Time: 0:00:10 ETA:  0:05:46"
     ]
    },
    {
     "name": "stderr",
     "output_type": "stream",
     "text": [
      "\r                                                                               \r\r  2% (79 of 3198) |                       | Elapsed Time: 0:00:11 ETA:  0:06:32"
     ]
    },
    {
     "name": "stderr",
     "output_type": "stream",
     "text": [
      "\r                                                                               \r\r  2% (80 of 3198) |                       | Elapsed Time: 0:00:12 ETA:  0:06:52"
     ]
    },
    {
     "name": "stderr",
     "output_type": "stream",
     "text": [
      "\r                                                                               \r\r  2% (81 of 3198) |                       | Elapsed Time: 0:00:12 ETA:  0:06:51"
     ]
    },
    {
     "name": "stderr",
     "output_type": "stream",
     "text": [
      "\r                                                                               \r\r  2% (90 of 3198) |                       | Elapsed Time: 0:00:12 ETA:  0:06:09"
     ]
    },
    {
     "name": "stderr",
     "output_type": "stream",
     "text": [
      "\r                                                                               \r\r  2% (93 of 3198) |                       | Elapsed Time: 0:00:12 ETA:  0:06:01"
     ]
    },
    {
     "name": "stderr",
     "output_type": "stream",
     "text": [
      "\r                                                                               \r\r  3% (98 of 3198) |                       | Elapsed Time: 0:00:12 ETA:  0:05:36"
     ]
    },
    {
     "name": "stderr",
     "output_type": "stream",
     "text": [
      "\r                                                                               \r\r  3% (102 of 3198) |                      | Elapsed Time: 0:00:12 ETA:  0:05:25"
     ]
    },
    {
     "name": "stderr",
     "output_type": "stream",
     "text": [
      "\r                                                                               \r\r  3% (106 of 3198) |                      | Elapsed Time: 0:00:13 ETA:  0:04:45"
     ]
    },
    {
     "name": "stderr",
     "output_type": "stream",
     "text": [
      "\r                                                                               \r\r  3% (109 of 3198) |                      | Elapsed Time: 0:00:14 ETA:  0:05:18"
     ]
    },
    {
     "name": "stderr",
     "output_type": "stream",
     "text": [
      "\r                                                                               \r\r  3% (113 of 3198) |                      | Elapsed Time: 0:00:14 ETA:  0:05:26"
     ]
    },
    {
     "name": "stderr",
     "output_type": "stream",
     "text": [
      "\r                                                                               \r\r  3% (115 of 3198) |                      | Elapsed Time: 0:00:15 ETA:  0:05:47"
     ]
    },
    {
     "name": "stderr",
     "output_type": "stream",
     "text": [
      "\r                                                                               \r\r  3% (116 of 3198) |                      | Elapsed Time: 0:00:15 ETA:  0:05:35"
     ]
    },
    {
     "name": "stderr",
     "output_type": "stream",
     "text": [
      "\r                                                                               \r\r  3% (117 of 3198) |                      | Elapsed Time: 0:00:15 ETA:  0:05:20"
     ]
    },
    {
     "name": "stderr",
     "output_type": "stream",
     "text": [
      "\r                                                                               \r\r  3% (120 of 3198) |                      | Elapsed Time: 0:00:17 ETA:  0:06:03"
     ]
    },
    {
     "name": "stderr",
     "output_type": "stream",
     "text": [
      "\r                                                                               \r\r  3% (121 of 3198) |                      | Elapsed Time: 0:00:17 ETA:  0:06:07"
     ]
    },
    {
     "name": "stderr",
     "output_type": "stream",
     "text": [
      "\r                                                                               \r\r  3% (122 of 3198) |                      | Elapsed Time: 0:00:17 ETA:  0:06:10"
     ]
    },
    {
     "name": "stderr",
     "output_type": "stream",
     "text": [
      "\r                                                                               \r\r  3% (123 of 3198) |                      | Elapsed Time: 0:00:17 ETA:  0:06:12"
     ]
    },
    {
     "name": "stderr",
     "output_type": "stream",
     "text": [
      "\r                                                                               \r\r  3% (125 of 3198) |                      | Elapsed Time: 0:00:18 ETA:  0:06:14"
     ]
    },
    {
     "name": "stderr",
     "output_type": "stream",
     "text": [
      "\r                                                                               \r\r  4% (130 of 3198) |                      | Elapsed Time: 0:00:18 ETA:  0:06:19"
     ]
    },
    {
     "name": "stderr",
     "output_type": "stream",
     "text": [
      "\r                                                                               \r\r  4% (137 of 3198) |                      | Elapsed Time: 0:00:18 ETA:  0:06:01"
     ]
    },
    {
     "name": "stderr",
     "output_type": "stream",
     "text": [
      "\r                                                                               \r\r  4% (138 of 3198) |                      | Elapsed Time: 0:00:18 ETA:  0:06:20"
     ]
    },
    {
     "name": "stderr",
     "output_type": "stream",
     "text": [
      "\r                                                                               \r\r  4% (139 of 3198) |                      | Elapsed Time: 0:00:18 ETA:  0:06:35"
     ]
    },
    {
     "name": "stderr",
     "output_type": "stream",
     "text": [
      "\r                                                                               \r\r  4% (141 of 3198) |                      | Elapsed Time: 0:00:19 ETA:  0:06:27"
     ]
    },
    {
     "name": "stderr",
     "output_type": "stream",
     "text": [
      "\r                                                                               \r\r  4% (143 of 3198) |                      | Elapsed Time: 0:00:19 ETA:  0:06:19"
     ]
    },
    {
     "name": "stderr",
     "output_type": "stream",
     "text": [
      "\r                                                                               \r\r  4% (144 of 3198) |                      | Elapsed Time: 0:00:19 ETA:  0:06:15"
     ]
    },
    {
     "name": "stderr",
     "output_type": "stream",
     "text": [
      "\r                                                                               \r\r  4% (145 of 3198) |                      | Elapsed Time: 0:00:19 ETA:  0:06:18"
     ]
    },
    {
     "name": "stderr",
     "output_type": "stream",
     "text": [
      "\r                                                                               \r\r  4% (146 of 3198) |#                     | Elapsed Time: 0:00:19 ETA:  0:06:13"
     ]
    },
    {
     "name": "stderr",
     "output_type": "stream",
     "text": [
      "\r                                                                               \r\r  4% (147 of 3198) |#                     | Elapsed Time: 0:00:20 ETA:  0:06:36"
     ]
    },
    {
     "name": "stderr",
     "output_type": "stream",
     "text": [
      "\r                                                                               \r\r  4% (150 of 3198) |#                     | Elapsed Time: 0:00:20 ETA:  0:06:39"
     ]
    },
    {
     "name": "stderr",
     "output_type": "stream",
     "text": [
      "\r                                                                               \r\r  4% (151 of 3198) |#                     | Elapsed Time: 0:00:20 ETA:  0:06:47"
     ]
    },
    {
     "name": "stderr",
     "output_type": "stream",
     "text": [
      "\r                                                                               \r\r  4% (153 of 3198) |#                     | Elapsed Time: 0:00:21 ETA:  0:06:31"
     ]
    },
    {
     "name": "stderr",
     "output_type": "stream",
     "text": [
      "\r                                                                               \r\r  4% (154 of 3198) |#                     | Elapsed Time: 0:00:21 ETA:  0:06:31"
     ]
    },
    {
     "name": "stderr",
     "output_type": "stream",
     "text": [
      "\r                                                                               \r\r  4% (155 of 3198) |#                     | Elapsed Time: 0:00:21 ETA:  0:06:31"
     ]
    },
    {
     "name": "stderr",
     "output_type": "stream",
     "text": [
      "\r                                                                               \r\r  4% (159 of 3198) |#                     | Elapsed Time: 0:00:21 ETA:  0:07:01"
     ]
    },
    {
     "name": "stderr",
     "output_type": "stream",
     "text": [
      "\r                                                                               \r\r  5% (162 of 3198) |#                     | Elapsed Time: 0:00:22 ETA:  0:06:59"
     ]
    },
    {
     "name": "stderr",
     "output_type": "stream",
     "text": [
      "\r                                                                               \r\r  5% (165 of 3198) |#                     | Elapsed Time: 0:00:22 ETA:  0:07:13"
     ]
    },
    {
     "name": "stderr",
     "output_type": "stream",
     "text": [
      "\r                                                                               \r\r  5% (167 of 3198) |#                     | Elapsed Time: 0:00:22 ETA:  0:07:24"
     ]
    },
    {
     "name": "stderr",
     "output_type": "stream",
     "text": [
      "\r                                                                               \r\r  5% (169 of 3198) |#                     | Elapsed Time: 0:00:25 ETA:  0:10:03"
     ]
    },
    {
     "name": "stderr",
     "output_type": "stream",
     "text": [
      "\r                                                                               \r\r  5% (170 of 3198) |#                     | Elapsed Time: 0:00:28 ETA:  0:12:00"
     ]
    },
    {
     "name": "stderr",
     "output_type": "stream",
     "text": [
      "\r                                                                               \r\r  5% (171 of 3198) |#                     | Elapsed Time: 0:00:32 ETA:  0:14:54"
     ]
    },
    {
     "name": "stderr",
     "output_type": "stream",
     "text": [
      "\r                                                                               \r\r  5% (173 of 3198) |#                     | Elapsed Time: 0:00:32 ETA:  0:14:51"
     ]
    },
    {
     "name": "stderr",
     "output_type": "stream",
     "text": [
      "\r                                                                               \r\r  5% (179 of 3198) |#                     | Elapsed Time: 0:00:32 ETA:  0:13:31"
     ]
    },
    {
     "name": "stderr",
     "output_type": "stream",
     "text": [
      "\r                                                                               \r\r  5% (182 of 3198) |#                     | Elapsed Time: 0:00:32 ETA:  0:13:06"
     ]
    },
    {
     "name": "stderr",
     "output_type": "stream",
     "text": [
      "\r                                                                               \r\r  5% (184 of 3198) |#                     | Elapsed Time: 0:00:32 ETA:  0:12:11"
     ]
    },
    {
     "name": "stderr",
     "output_type": "stream",
     "text": [
      "\r                                                                               \r\r  5% (185 of 3198) |#                     | Elapsed Time: 0:00:32 ETA:  0:12:03"
     ]
    },
    {
     "name": "stderr",
     "output_type": "stream",
     "text": [
      "\r                                                                               \r\r  5% (186 of 3198) |#                     | Elapsed Time: 0:00:33 ETA:  0:12:20"
     ]
    },
    {
     "name": "stderr",
     "output_type": "stream",
     "text": [
      "\r                                                                               \r\r  5% (190 of 3198) |#                     | Elapsed Time: 0:00:33 ETA:  0:11:39"
     ]
    },
    {
     "name": "stderr",
     "output_type": "stream",
     "text": [
      "\r                                                                               \r\r  6% (193 of 3198) |#                     | Elapsed Time: 0:00:33 ETA:  0:11:21"
     ]
    },
    {
     "name": "stderr",
     "output_type": "stream",
     "text": [
      "\r                                                                               \r\r  6% (197 of 3198) |#                     | Elapsed Time: 0:00:34 ETA:  0:11:40"
     ]
    },
    {
     "name": "stderr",
     "output_type": "stream",
     "text": [
      "\r                                                                               \r\r  6% (199 of 3198) |#                     | Elapsed Time: 0:00:34 ETA:  0:12:40"
     ]
    },
    {
     "name": "stdout",
     "output_type": "stream",
     "text": [
      "Finished looking for duplicate files.\nFound 130 duplicates.\n"
     ]
    }
   ],
   "source": [
    "from package import widgets\n",
    "from pprint import pprint\n",
    "from  functools import partial \n",
    "pprint = partial(pprint, width = 200)\n",
    "import os\n",
    "ignore_folders = [\n",
    "\t'.anaconda', '.astropy', '.matplotlib', 'AppData', 'ipython', '.conda', '.jupyter'\n",
    "    'Anaconda3', '.PyCharm2017.3', 'MicrosoftEdgeBackups'\n",
    "    ]\n",
    "\n",
    "folder = os.path.join(os.getenv('USERPROFILE'), 'Google Drive')\n",
    "#folder = r\"C:\\Users\\Progi\\Downloads\\Websites\\Legendarylootz\"\n",
    "#folder = os.path.join(os.getenv('USERPROFILE'))\n",
    "parser = widgets.DuplicateFiles(folder, 'md5', ignore_folders = ignore_folders)\n",
    "\n",
    "\n"
   ]
  },
  {
   "cell_type": "code",
   "execution_count": 4,
   "metadata": {},
   "outputs": [
    {
     "data": {
      "text/plain": [
       "'123.00'"
      ]
     },
     "execution_count": 4,
     "metadata": {},
     "output_type": "execute_result"
    }
   ],
   "source": [
    "string = \".2f\"\n",
    "string = \"{:.2f}\".format(123.0, precision = 4)\n",
    "string"
   ]
  },
  {
   "cell_type": "code",
   "execution_count": 10,
   "metadata": {},
   "outputs": [
    {
     "name": "stdout",
     "output_type": "stream",
     "text": [
      "8.76\tC:\\Users\\Progi\\Anaconda3\\python36.pdb\n8.76\tC:\\Users\\Progi\\Anaconda3\\pkgs\\python-3.6.3-h9e2ca53_1\\python36.pdb\n1.59\tC:\\Users\\Progi\\Anaconda3\\DLLs\\_hashlib.pyd\n1.59\tC:\\Users\\Progi\\Anaconda3\\pkgs\\python-3.6.3-h9e2ca53_1\\DLLs\\_hashlib.pyd\n1.97\tC:\\Users\\Progi\\Anaconda3\\DLLs\\_ssl.pyd\n1.97\tC:\\Users\\Progi\\Anaconda3\\pkgs\\python-3.6.3-h9e2ca53_1\\DLLs\\_ssl.pyd\n1.95\tC:\\Users\\Progi\\Anaconda3\\DLLs\\instrumented\\_hashlib.pyd\n1.95\tC:\\Users\\Progi\\Anaconda3\\pkgs\\python-3.6.3-h9e2ca53_1\\DLLs\\instrumented\\_hashlib.pyd\n2.55\tC:\\Users\\Progi\\Anaconda3\\DLLs\\instrumented\\_ssl.pyd\n2.55\tC:\\Users\\Progi\\Anaconda3\\pkgs\\python-3.6.3-h9e2ca53_1\\DLLs\\instrumented\\_ssl.pyd\n2.52\tC:\\Users\\Progi\\Anaconda3\\Lib\\site-packages\\PyWin32.chm\n2.52\tC:\\Users\\Progi\\Anaconda3\\pkgs\\pywin32-221-py36h9c10281_0\\Lib\\site-packages\\PyWin32.chm\n2.96\tC:\\Users\\Progi\\Anaconda3\\Lib\\site-packages\\astropy\\utils\\iers\\data\\eopc04_IAU2000.62-now\n2.96\tC:\\Users\\Progi\\Anaconda3\\pkgs\\astropy-2.0.2-py36h06391c4_4\\Lib\\site-packages\\astropy\\utils\\iers\\data\\eopc04_IAU2000.62-now\n1.25\tC:\\Users\\Progi\\Anaconda3\\Lib\\site-packages\\astropy\\wcs\\_wcs.cp36-win_amd64.pyd\n1.25\tC:\\Users\\Progi\\Anaconda3\\pkgs\\astropy-2.0.2-py36h06391c4_4\\Lib\\site-packages\\astropy\\wcs\\_wcs.cp36-win_amd64.pyd\n"
     ]
    },
    {
     "name": "stdout",
     "output_type": "stream",
     "text": [
      "1.38\tC:\\Users\\Progi\\Anaconda3\\Lib\\site-packages\\bokeh\\server\\static\\js\\bokeh-tables.min.js.map\n1.38\tC:\\Users\\Progi\\Anaconda3\\pkgs\\bokeh-0.12.10-py36h0be3b39_0\\Lib\\site-packages\\bokeh\\server\\static\\js\\bokeh-tables.min.js.map\n1.56\tC:\\Users\\Progi\\Anaconda3\\Lib\\site-packages\\bokeh\\server\\static\\js\\bokeh.js\n1.56\tC:\\Users\\Progi\\Anaconda3\\pkgs\\bokeh-0.12.10-py36h0be3b39_0\\Lib\\site-packages\\bokeh\\server\\static\\js\\bokeh.js\n1.81\tC:\\Users\\Progi\\Anaconda3\\Lib\\site-packages\\bokeh\\server\\static\\js\\bokeh.js.map\n1.81\tC:\\Users\\Progi\\Anaconda3\\pkgs\\bokeh-0.12.10-py36h0be3b39_0\\Lib\\site-packages\\bokeh\\server\\static\\js\\bokeh.js.map\n4.11\tC:\\Users\\Progi\\Anaconda3\\Lib\\site-packages\\bokeh\\server\\static\\js\\bokeh.min.js.map\n4.11\tC:\\Users\\Progi\\Anaconda3\\pkgs\\bokeh-0.12.10-py36h0be3b39_0\\Lib\\site-packages\\bokeh\\server\\static\\js\\bokeh.min.js.map\n7.32\tC:\\Users\\Progi\\Anaconda3\\Lib\\site-packages\\bokeh\\server\\static\\js\\compiler.js\n7.32\tC:\\Users\\Progi\\Anaconda3\\pkgs\\bokeh-0.12.10-py36h0be3b39_0\\Lib\\site-packages\\bokeh\\server\\static\\js\\compiler.js\n"
     ]
    },
    {
     "name": "stdout",
     "output_type": "stream",
     "text": [
      "1.62\tC:\\Users\\Progi\\Anaconda3\\Lib\\site-packages\\gevent\\libev\\gevent.corecext.c\n1.62\tC:\\Users\\Progi\\Anaconda3\\pkgs\\gevent-1.2.2-py36h342a76c_0\\Lib\\site-packages\\gevent\\libev\\gevent.corecext.c\n1.03\tC:\\Users\\Progi\\Anaconda3\\Lib\\site-packages\\jupyterlab\\build\\0.bundle.js.map\n1.03\tC:\\Users\\Progi\\Anaconda3\\pkgs\\jupyterlab-0.27.0-py36h34cc53b_2\\Lib\\site-packages\\jupyterlab\\build\\0.bundle.js.map\n6.59\tC:\\Users\\Progi\\Anaconda3\\Lib\\site-packages\\jupyterlab\\build\\main.bundle.js\n6.59\tC:\\Users\\Progi\\Anaconda3\\pkgs\\jupyterlab-0.27.0-py36h34cc53b_2\\Lib\\site-packages\\jupyterlab\\build\\main.bundle.js\n7.92\tC:\\Users\\Progi\\Anaconda3\\Lib\\site-packages\\jupyterlab\\build\\main.bundle.js.map\n7.92\tC:\\Users\\Progi\\Anaconda3\\pkgs\\jupyterlab-0.27.0-py36h34cc53b_2\\Lib\\site-packages\\jupyterlab\\build\\main.bundle.js.map\n1.59\tC:\\Users\\Progi\\Anaconda3\\Lib\\site-packages\\lxml\\etree.cp36-win_amd64.pyd\n1.59\tC:\\Users\\Progi\\Anaconda3\\pkgs\\lxml-4.1.0-py36h0dcd83c_0\\Lib\\site-packages\\lxml\\etree.cp36-win_amd64.pyd\n1.09\tC:\\Users\\Progi\\Anaconda3\\Lib\\site-packages\\notebook\\static\\edit\\js\\main.min.js.map\n1.09\tC:\\Users\\Progi\\Anaconda3\\pkgs\\notebook-5.0.0-py36hd9fbf6f_2\\Lib\\site-packages\\notebook\\static\\edit\\js\\main.min.js.map\n1.67\tC:\\Users\\Progi\\Anaconda3\\Lib\\site-packages\\notebook\\static\\notebook\\js\\main.min.js\n1.67\tC:\\Users\\Progi\\Anaconda3\\pkgs\\notebook-5.0.0-py36hd9fbf6f_2\\Lib\\site-packages\\notebook\\static\\notebook\\js\\main.min.js\n1.91\tC:\\Users\\Progi\\Anaconda3\\Lib\\site-packages\\notebook\\static\\notebook\\js\\main.min.js.map\n1.91\tC:\\Users\\Progi\\Anaconda3\\pkgs\\notebook-5.0.0-py36hd9fbf6f_2\\Lib\\site-packages\\notebook\\static\\notebook\\js\\main.min.js.map\n"
     ]
    },
    {
     "name": "stdout",
     "output_type": "stream",
     "text": [
      "1.47\tC:\\Users\\Progi\\Anaconda3\\Lib\\site-packages\\numpy\\core\\multiarray.cp36-win_amd64.pyd\n1.47\tC:\\Users\\Progi\\Anaconda3\\pkgs\\numpy-1.13.3-py36ha320f96_0\\Lib\\site-packages\\numpy\\core\\multiarray.cp36-win_amd64.pyd\n1.27\tC:\\Users\\Progi\\Anaconda3\\Lib\\site-packages\\pandas\\tests\\io\\sas\\data\\DEMO_G.csv\n1.27\tC:\\Users\\Progi\\Anaconda3\\pkgs\\pandas-0.20.3-py36hce827b7_2\\Lib\\site-packages\\pandas\\tests\\io\\sas\\data\\DEMO_G.csv\n3.58\tC:\\Users\\Progi\\Anaconda3\\Lib\\site-packages\\pandas\\tests\\io\\sas\\data\\DEMO_G.xpt\n3.58\tC:\\Users\\Progi\\Anaconda3\\pkgs\\pandas-0.20.3-py36hce827b7_2\\Lib\\site-packages\\pandas\\tests\\io\\sas\\data\\DEMO_G.xpt\n2.09\tC:\\Users\\Progi\\Anaconda3\\Lib\\site-packages\\pandas\\tests\\io\\sas\\data\\DRXFCD_G.xpt\n2.09\tC:\\Users\\Progi\\Anaconda3\\pkgs\\pandas-0.20.3-py36hce827b7_2\\Lib\\site-packages\\pandas\\tests\\io\\sas\\data\\DRXFCD_G.xpt\n1.18\tC:\\Users\\Progi\\Anaconda3\\Lib\\site-packages\\pandas\\_libs\\algos.cp36-win_amd64.pyd\n1.18\tC:\\Users\\Progi\\Anaconda3\\pkgs\\pandas-0.20.3-py36hce827b7_2\\Lib\\site-packages\\pandas\\_libs\\algos.cp36-win_amd64.pyd\n1.36\tC:\\Users\\Progi\\Anaconda3\\Lib\\site-packages\\pandas\\_libs\\interval.cp36-win_amd64.pyd\n1.36\tC:\\Users\\Progi\\Anaconda3\\pkgs\\pandas-0.20.3-py36hce827b7_2\\Lib\\site-packages\\pandas\\_libs\\interval.cp36-win_amd64.pyd\n1.58\tC:\\Users\\Progi\\Anaconda3\\Lib\\site-packages\\pandas\\_libs\\join.cp36-win_amd64.pyd\n1.58\tC:\\Users\\Progi\\Anaconda3\\pkgs\\pandas-0.20.3-py36hce827b7_2\\Lib\\site-packages\\pandas\\_libs\\join.cp36-win_amd64.pyd\n1.06\tC:\\Users\\Progi\\Anaconda3\\Lib\\site-packages\\pandas\\_libs\\tslib.cp36-win_amd64.pyd\n1.06\tC:\\Users\\Progi\\Anaconda3\\pkgs\\pandas-0.20.3-py36hce827b7_2\\Lib\\site-packages\\pandas\\_libs\\tslib.cp36-win_amd64.pyd\n1.01\tC:\\Users\\Progi\\Anaconda3\\Lib\\site-packages\\pyproj\\data\\alaska\n1.01\tC:\\Users\\Progi\\Anaconda3\\pkgs\\pyproj-1.9.5.1-py36_0\\Lib\\site-packages\\pyproj\\data\\alaska\n1.06\tC:\\Users\\Progi\\Anaconda3\\Lib\\site-packages\\pyproj\\data\\ntv1_can.dat\n1.06\tC:\\Users\\Progi\\Anaconda3\\Library\\share\\ntv1_can.dat\n1.06\tC:\\Users\\Progi\\Anaconda3\\pkgs\\proj4-4.9.3-vc14_5\\Library\\share\\ntv1_can.dat\n1.06\tC:\\Users\\Progi\\Anaconda3\\pkgs\\pyproj-1.9.5.1-py36_0\\Lib\\site-packages\\pyproj\\data\\ntv1_can.dat\n2.15\tC:\\Users\\Progi\\Anaconda3\\Lib\\site-packages\\PyQt5\\QtCore.pyd\n2.15\tC:\\Users\\Progi\\Anaconda3\\pkgs\\pyqt-5.6.0-py36hb5ed885_5\\Lib\\site-packages\\PyQt5\\QtCore.pyd\n2.29\tC:\\Users\\Progi\\Anaconda3\\Lib\\site-packages\\PyQt5\\QtGui.pyd\n2.29\tC:\\Users\\Progi\\Anaconda3\\pkgs\\pyqt-5.6.0-py36hb5ed885_5\\Lib\\site-packages\\PyQt5\\QtGui.pyd\n4.47\tC:\\Users\\Progi\\Anaconda3\\Lib\\site-packages\\PyQt5\\QtWidgets.pyd\n4.47\tC:\\Users\\Progi\\Anaconda3\\pkgs\\pyqt-5.6.0-py36hb5ed885_5\\Lib\\site-packages\\PyQt5\\QtWidgets.pyd\n1.37\tC:\\Users\\Progi\\Anaconda3\\Lib\\site-packages\\pysal\\examples\\clearwater\\streams.dbf\n1.37\tC:\\Users\\Progi\\Anaconda3\\pkgs\\pysal-1.14.3-py36_0\\Lib\\site-packages\\pysal\\examples\\clearwater\\streams.dbf\n2.03\tC:\\Users\\Progi\\Anaconda3\\Lib\\site-packages\\pysal\\examples\\clearwater\\streams.shp\n2.03\tC:\\Users\\Progi\\Anaconda3\\pkgs\\pysal-1.14.3-py36_0\\Lib\\site-packages\\pysal\\examples\\clearwater\\streams.shp\n2.39\tC:\\Users\\Progi\\Anaconda3\\Lib\\site-packages\\pysal\\examples\\nat\\NAT.dbf\n2.39\tC:\\Users\\Progi\\Anaconda3\\pkgs\\pysal-1.14.3-py36_0\\Lib\\site-packages\\pysal\\examples\\nat\\NAT.dbf\n7.55\tC:\\Users\\Progi\\Anaconda3\\Lib\\site-packages\\pysal\\examples\\nat\\nat.geojson\n7.55\tC:\\Users\\Progi\\Anaconda3\\pkgs\\pysal-1.14.3-py36_0\\Lib\\site-packages\\pysal\\examples\\nat\\nat.geojson\n1.39\tC:\\Users\\Progi\\Anaconda3\\Lib\\site-packages\\pysal\\examples\\nat\\NAT.shp\n1.39\tC:\\Users\\Progi\\Anaconda3\\pkgs\\pysal-1.14.3-py36_0\\Lib\\site-packages\\pysal\\examples\\nat\\NAT.shp\n2.51\tC:\\Users\\Progi\\Anaconda3\\Lib\\site-packages\\pysal\\examples\\nat\\natregimes.dbf\n2.51\tC:\\Users\\Progi\\Anaconda3\\pkgs\\pysal-1.14.3-py36_0\\Lib\\site-packages\\pysal\\examples\\nat\\natregimes.dbf\n1.39\tC:\\Users\\Progi\\Anaconda3\\Lib\\site-packages\\pysal\\examples\\nat\\natregimes.shp\n1.39\tC:\\Users\\Progi\\Anaconda3\\pkgs\\pysal-1.14.3-py36_0\\Lib\\site-packages\\pysal\\examples\\nat\\natregimes.shp\n1.29\tC:\\Users\\Progi\\Anaconda3\\Lib\\site-packages\\pysal\\examples\\nat\\nat_trian_k20.kwt\n1.29\tC:\\Users\\Progi\\Anaconda3\\pkgs\\pysal-1.14.3-py36_0\\Lib\\site-packages\\pysal\\examples\\nat\\nat_trian_k20.kwt\n1.26\tC:\\Users\\Progi\\Anaconda3\\Lib\\site-packages\\pysal\\examples\\newHaven\\new_haven_merged.dbf\n1.26\tC:\\Users\\Progi\\Anaconda3\\pkgs\\pysal-1.14.3-py36_0\\Lib\\site-packages\\pysal\\examples\\newHaven\\new_haven_merged.dbf\n2.53\tC:\\Users\\Progi\\Anaconda3\\Lib\\site-packages\\pysal\\examples\\nyc_bikes\\nyct2010.shp\n2.53\tC:\\Users\\Progi\\Anaconda3\\pkgs\\pysal-1.14.3-py36_0\\Lib\\site-packages\\pysal\\examples\\nyc_bikes\\nyct2010.shp\n3.89\tC:\\Users\\Progi\\Anaconda3\\Lib\\site-packages\\pysal\\examples\\nyc_bikes\\nyc_bikes_ct.csv\n3.89\tC:\\Users\\Progi\\Anaconda3\\pkgs\\pysal-1.14.3-py36_0\\Lib\\site-packages\\pysal\\examples\\nyc_bikes\\nyc_bikes_ct.csv\n1.51\tC:\\Users\\Progi\\Anaconda3\\Lib\\site-packages\\pysal\\examples\\sacramento2\\sacramentot2.shp\n1.51\tC:\\Users\\Progi\\Anaconda3\\pkgs\\pysal-1.14.3-py36_0\\Lib\\site-packages\\pysal\\examples\\sacramento2\\sacramentot2.shp\n1.09\tC:\\Users\\Progi\\Anaconda3\\Lib\\site-packages\\pysal\\examples\\south\\south.dbf\n1.09\tC:\\Users\\Progi\\Anaconda3\\pkgs\\pysal-1.14.3-py36_0\\Lib\\site-packages\\pysal\\examples\\south\\south.dbf\n5.51\tC:\\Users\\Progi\\Anaconda3\\Lib\\site-packages\\pysal\\examples\\taz\\taz.shp\n5.51\tC:\\Users\\Progi\\Anaconda3\\pkgs\\pysal-1.14.3-py36_0\\Lib\\site-packages\\pysal\\examples\\taz\\taz.shp\n1.48\tC:\\Users\\Progi\\Anaconda3\\Lib\\site-packages\\pythonwin\\win32ui.pyd\n1.48\tC:\\Users\\Progi\\Anaconda3\\pkgs\\pywin32-221-py36h9c10281_0\\Lib\\site-packages\\pythonwin\\win32ui.pyd\n"
     ]
    },
    {
     "name": "stdout",
     "output_type": "stream",
     "text": [
      "1.74\tC:\\Users\\Progi\\Anaconda3\\Lib\\site-packages\\pywt\\tests\\data\\cwt_matlabR2015b_result.npz\n1.74\tC:\\Users\\Progi\\Anaconda3\\pkgs\\pywavelets-0.5.2-py36hc649158_0\\Lib\\site-packages\\pywt\\tests\\data\\cwt_matlabR2015b_result.npz\n2.37\tC:\\Users\\Progi\\Anaconda3\\Lib\\site-packages\\pywt\\tests\\data\\dwt_matlabR2012a_result.npz\n2.37\tC:\\Users\\Progi\\Anaconda3\\pkgs\\pywavelets-0.5.2-py36hc649158_0\\Lib\\site-packages\\pywt\\tests\\data\\dwt_matlabR2012a_result.npz\n1.51\tC:\\Users\\Progi\\Anaconda3\\Lib\\site-packages\\scipy\\misc\\face.dat\n1.51\tC:\\Users\\Progi\\Anaconda3\\pkgs\\scipy-0.19.1-py36h7565378_3\\Lib\\site-packages\\scipy\\misc\\face.dat\n2.30\tC:\\Users\\Progi\\Anaconda3\\Lib\\site-packages\\scipy\\sparse\\_sparsetools.cp36-win_amd64.pyd\n2.30\tC:\\Users\\Progi\\Anaconda3\\pkgs\\scipy-0.19.1-py36h7565378_3\\Lib\\site-packages\\scipy\\sparse\\_sparsetools.cp36-win_amd64.pyd\n1.56\tC:\\Users\\Progi\\Anaconda3\\Lib\\site-packages\\scipy\\special\\cython_special.cp36-win_amd64.pyd\n1.56\tC:\\Users\\Progi\\Anaconda3\\pkgs\\scipy-0.19.1-py36h7565378_3\\Lib\\site-packages\\scipy\\special\\cython_special.cp36-win_amd64.pyd\n2.38\tC:\\Users\\Progi\\Anaconda3\\Lib\\site-packages\\skimage\\data\\astronaut_GRAY_hog_L1.npy\n2.38\tC:\\Users\\Progi\\Anaconda3\\pkgs\\scikit-image-0.13.0-py36h6dffa3f_1\\Lib\\site-packages\\skimage\\data\\astronaut_GRAY_hog_L1.npy\n2.38\tC:\\Users\\Progi\\Anaconda3\\Lib\\site-packages\\skimage\\data\\astronaut_GRAY_hog_L2-Hys.npy\n2.38\tC:\\Users\\Progi\\Anaconda3\\pkgs\\scikit-image-0.13.0-py36h6dffa3f_1\\Lib\\site-packages\\skimage\\data\\astronaut_GRAY_hog_L2-Hys.npy\n1.09\tC:\\Users\\Progi\\Anaconda3\\Lib\\site-packages\\skimage\\data\\motorcycle_disp.npz\n1.09\tC:\\Users\\Progi\\Anaconda3\\pkgs\\scikit-image-0.13.0-py36h6dffa3f_1\\Lib\\site-packages\\skimage\\data\\motorcycle_disp.npz\n2.00\tC:\\Users\\Progi\\Anaconda3\\Lib\\site-packages\\skimage\\data\\mssim_matlab_output.npz\n2.00\tC:\\Users\\Progi\\Anaconda3\\pkgs\\scikit-image-0.13.0-py36h6dffa3f_1\\Lib\\site-packages\\skimage\\data\\mssim_matlab_output.npz\n2.00\tC:\\Users\\Progi\\Anaconda3\\Lib\\site-packages\\skimage\\restoration\\tests\\camera_rl.npy\n2.00\tC:\\Users\\Progi\\Anaconda3\\pkgs\\scikit-image-0.13.0-py36h6dffa3f_1\\Lib\\site-packages\\skimage\\restoration\\tests\\camera_rl.npy\n2.00\tC:\\Users\\Progi\\Anaconda3\\Lib\\site-packages\\skimage\\restoration\\tests\\camera_unsup.npy\n2.00\tC:\\Users\\Progi\\Anaconda3\\pkgs\\scikit-image-0.13.0-py36h6dffa3f_1\\Lib\\site-packages\\skimage\\restoration\\tests\\camera_unsup.npy\n2.00\tC:\\Users\\Progi\\Anaconda3\\Lib\\site-packages\\skimage\\restoration\\tests\\camera_unsup2.npy\n2.00\tC:\\Users\\Progi\\Anaconda3\\pkgs\\scikit-image-0.13.0-py36h6dffa3f_1\\Lib\\site-packages\\skimage\\restoration\\tests\\camera_unsup2.npy\n2.00\tC:\\Users\\Progi\\Anaconda3\\Lib\\site-packages\\skimage\\restoration\\tests\\camera_wiener.npy\n2.00\tC:\\Users\\Progi\\Anaconda3\\pkgs\\scikit-image-0.13.0-py36h6dffa3f_1\\Lib\\site-packages\\skimage\\restoration\\tests\\camera_wiener.npy\n"
     ]
    },
    {
     "name": "stdout",
     "output_type": "stream",
     "text": [
      "2.74\tC:\\Users\\Progi\\Anaconda3\\Lib\\site-packages\\widgetsnbextension\\static\\extension.js\n2.74\tC:\\Users\\Progi\\Anaconda3\\pkgs\\widgetsnbextension-3.0.2-py36h364476f_1\\Lib\\site-packages\\widgetsnbextension\\static\\extension.js\n2.74\tC:\\Users\\Progi\\Anaconda3\\pkgs\\widgetsnbextension-3.0.2-py36h364476f_1\\share\\jupyter\\nbextensions\\jupyter-js-widgets\\extension.js\n2.74\tC:\\Users\\Progi\\Anaconda3\\share\\jupyter\\nbextensions\\jupyter-js-widgets\\extension.js\n3.36\tC:\\Users\\Progi\\Anaconda3\\Lib\\site-packages\\widgetsnbextension\\static\\extension.js.map\n3.36\tC:\\Users\\Progi\\Anaconda3\\pkgs\\widgetsnbextension-3.0.2-py36h364476f_1\\Lib\\site-packages\\widgetsnbextension\\static\\extension.js.map\n3.36\tC:\\Users\\Progi\\Anaconda3\\pkgs\\widgetsnbextension-3.0.2-py36h364476f_1\\share\\jupyter\\nbextensions\\jupyter-js-widgets\\extension.js.map\n3.36\tC:\\Users\\Progi\\Anaconda3\\share\\jupyter\\nbextensions\\jupyter-js-widgets\\extension.js.map\n1.15\tC:\\Users\\Progi\\Anaconda3\\Library\\bin\\assistant.exe\n1.15\tC:\\Users\\Progi\\Anaconda3\\pkgs\\qt-5.6.2-vc14_1\\Library\\bin\\assistant.exe\n2.28\tC:\\Users\\Progi\\Anaconda3\\Library\\bin\\gif2h5.exe\n2.28\tC:\\Users\\Progi\\Anaconda3\\pkgs\\hdf5-1.10.1-vc14_1\\Library\\bin\\gif2h5.exe\n2.25\tC:\\Users\\Progi\\Anaconda3\\Library\\bin\\h52gif.exe\n2.25\tC:\\Users\\Progi\\Anaconda3\\pkgs\\hdf5-1.10.1-vc14_1\\Library\\bin\\h52gif.exe\n2.23\tC:\\Users\\Progi\\Anaconda3\\Library\\bin\\h5copy.exe\n2.23\tC:\\Users\\Progi\\Anaconda3\\pkgs\\hdf5-1.10.1-vc14_1\\Library\\bin\\h5copy.exe\n2.23\tC:\\Users\\Progi\\Anaconda3\\Library\\bin\\h5debug.exe\n2.23\tC:\\Users\\Progi\\Anaconda3\\pkgs\\hdf5-1.10.1-vc14_1\\Library\\bin\\h5debug.exe\n2.37\tC:\\Users\\Progi\\Anaconda3\\Library\\bin\\h5diff.exe\n2.37\tC:\\Users\\Progi\\Anaconda3\\pkgs\\hdf5-1.10.1-vc14_1\\Library\\bin\\h5diff.exe\n2.50\tC:\\Users\\Progi\\Anaconda3\\Library\\bin\\h5dump.exe\n2.50\tC:\\Users\\Progi\\Anaconda3\\pkgs\\hdf5-1.10.1-vc14_1\\Library\\bin\\h5dump.exe\n2.23\tC:\\Users\\Progi\\Anaconda3\\Library\\bin\\h5format_convert.exe\n2.23\tC:\\Users\\Progi\\Anaconda3\\pkgs\\hdf5-1.10.1-vc14_1\\Library\\bin\\h5format_convert.exe\n2.27\tC:\\Users\\Progi\\Anaconda3\\Library\\bin\\h5import.exe\n2.27\tC:\\Users\\Progi\\Anaconda3\\pkgs\\hdf5-1.10.1-vc14_1\\Library\\bin\\h5import.exe\n2.21\tC:\\Users\\Progi\\Anaconda3\\Library\\bin\\h5jam.exe\n2.21\tC:\\Users\\Progi\\Anaconda3\\pkgs\\hdf5-1.10.1-vc14_1\\Library\\bin\\h5jam.exe\n2.38\tC:\\Users\\Progi\\Anaconda3\\Library\\bin\\h5ls.exe\n2.38\tC:\\Users\\Progi\\Anaconda3\\pkgs\\hdf5-1.10.1-vc14_1\\Library\\bin\\h5ls.exe\n2.21\tC:\\Users\\Progi\\Anaconda3\\Library\\bin\\h5mkgrp.exe\n2.21\tC:\\Users\\Progi\\Anaconda3\\pkgs\\hdf5-1.10.1-vc14_1\\Library\\bin\\h5mkgrp.exe\n2.39\tC:\\Users\\Progi\\Anaconda3\\Library\\bin\\h5repack.exe\n2.39\tC:\\Users\\Progi\\Anaconda3\\pkgs\\hdf5-1.10.1-vc14_1\\Library\\bin\\h5repack.exe\n2.17\tC:\\Users\\Progi\\Anaconda3\\Library\\bin\\h5repart.exe\n2.17\tC:\\Users\\Progi\\Anaconda3\\pkgs\\hdf5-1.10.1-vc14_1\\Library\\bin\\h5repart.exe\n2.25\tC:\\Users\\Progi\\Anaconda3\\Library\\bin\\h5stat.exe\n2.25\tC:\\Users\\Progi\\Anaconda3\\pkgs\\hdf5-1.10.1-vc14_1\\Library\\bin\\h5stat.exe\n2.21\tC:\\Users\\Progi\\Anaconda3\\Library\\bin\\h5unjam.exe\n2.21\tC:\\Users\\Progi\\Anaconda3\\pkgs\\hdf5-1.10.1-vc14_1\\Library\\bin\\h5unjam.exe\n2.33\tC:\\Users\\Progi\\Anaconda3\\Library\\bin\\h5watch.exe\n2.33\tC:\\Users\\Progi\\Anaconda3\\pkgs\\hdf5-1.10.1-vc14_1\\Library\\bin\\h5watch.exe\n3.58\tC:\\Users\\Progi\\Anaconda3\\Library\\bin\\libiomp5md.pdb\n3.58\tC:\\Users\\Progi\\Anaconda3\\pkgs\\intel-openmp-2018.0.0-hcd89f80_7\\Library\\bin\\libiomp5md.pdb\n1.19\tC:\\Users\\Progi\\Anaconda3\\Library\\bin\\linguist.exe\n1.19\tC:\\Users\\Progi\\Anaconda3\\pkgs\\qt-5.6.2-vc14_1\\Library\\bin\\linguist.exe\n1.12\tC:\\Users\\Progi\\Anaconda3\\Library\\bin\\moc.exe\n1.12\tC:\\Users\\Progi\\Anaconda3\\pkgs\\qt-5.6.2-vc14_1\\Library\\bin\\moc.exe\n1.09\tC:\\Users\\Progi\\Anaconda3\\Library\\bin\\qdoc.exe\n1.09\tC:\\Users\\Progi\\Anaconda3\\pkgs\\qt-5.6.2-vc14_1\\Library\\bin\\qdoc.exe\n3.81\tC:\\Users\\Progi\\Anaconda3\\Library\\bin\\qgltf.exe\n3.81\tC:\\Users\\Progi\\Anaconda3\\pkgs\\qt-5.6.2-vc14_1\\Library\\bin\\qgltf.exe\n2.18\tC:\\Users\\Progi\\Anaconda3\\Library\\bin\\qmake.exe\n2.18\tC:\\Users\\Progi\\Anaconda3\\pkgs\\qt-5.6.2-vc14_1\\Library\\bin\\qmake.exe\n1.12\tC:\\Users\\Progi\\Anaconda3\\Library\\bin\\sqlite3.exe\n1.12\tC:\\Users\\Progi\\Anaconda3\\pkgs\\sqlite-3.20.1-vc14_2\\Library\\bin\\sqlite3.exe\n1.10\tC:\\Users\\Progi\\Anaconda3\\Library\\bin\\windeployqt.exe\n1.10\tC:\\Users\\Progi\\Anaconda3\\pkgs\\qt-5.6.2-vc14_1\\Library\\bin\\windeployqt.exe\n"
     ]
    },
    {
     "name": "stdout",
     "output_type": "stream",
     "text": [
      "1.08\tC:\\Users\\Progi\\Anaconda3\\Library\\lib\\geos.exp\n1.08\tC:\\Users\\Progi\\Anaconda3\\pkgs\\geos-3.6.2-vc14_1\\Library\\lib\\geos.exp\n1.16\tC:\\Users\\Progi\\Anaconda3\\Library\\lib\\fonts\\unifont_160_50.qpf\n1.16\tC:\\Users\\Progi\\Anaconda3\\pkgs\\qt-5.6.2-vc14h6f8c307_12\\Library\\lib\\fonts\\unifont_160_50.qpf\n1.16\tC:\\Users\\Progi\\Anaconda3\\pkgs\\qt-5.6.2-vc14_1\\Library\\lib\\fonts\\unifont_160_50.qpf\n1.01\tC:\\Users\\Progi\\Anaconda3\\Library\\share\\alaska\n1.01\tC:\\Users\\Progi\\Anaconda3\\pkgs\\proj4-4.9.3-vc14_5\\Library\\share\\alaska\n1.37\tC:\\Users\\Progi\\Anaconda3\\Library\\share\\doc\\xerces-c\\html\\releases_archive.html\n1.37\tC:\\Users\\Progi\\Anaconda3\\pkgs\\xerces-c-3.2.0-vc14_0\\Library\\share\\doc\\xerces-c\\html\\releases_archive.html\n"
     ]
    },
    {
     "name": "stdout",
     "output_type": "stream",
     "text": [
      "1.24\tC:\\Users\\Progi\\Anaconda3\\Library\\share\\epsg_csv\\coordinate_operation.csv\n1.24\tC:\\Users\\Progi\\Anaconda3\\pkgs\\geotiff-1.4.2-vc14_1\\Library\\share\\epsg_csv\\coordinate_operation.csv\n1.57\tC:\\Users\\Progi\\Anaconda3\\Library\\share\\epsg_csv\\coordinate_reference_system.csv\n1.57\tC:\\Users\\Progi\\Anaconda3\\pkgs\\geotiff-1.4.2-vc14_1\\Library\\share\\epsg_csv\\coordinate_reference_system.csv\n2.00\tC:\\Users\\Progi\\Anaconda3\\pkgs\\.trash\\34a224d5-ae20-457f-8de1-6f12f2992a5c\n39.80\tC:\\Users\\Progi\\Anaconda3\\pkgs\\pandoc-1.19.2.1-hb2460c7_1\\Scripts\\pandoc-citeproc.exe\n39.80\tC:\\Users\\Progi\\Anaconda3\\Scripts\\pandoc-citeproc.exe\n43.52\tC:\\Users\\Progi\\Anaconda3\\pkgs\\pandoc-1.19.2.1-hb2460c7_1\\Scripts\\pandoc.exe\n43.52\tC:\\Users\\Progi\\Anaconda3\\Scripts\\pandoc.exe\n41.50\tC:\\Users\\Progi\\Documents\\Genomic Data\\Gastric Carcinoma\\gdac.broadinstitute.org_STAD-TP.CopyNumber_Gistic2.Level_4.2016012800.0.0\\genome.info.6.0_hg19.na31_minus_frequent_nan_probes_sorted_2.1.txt\n41.50\tC:\\Users\\Progi\\Documents\\Projects\\Genome Project\\Data\\Other Files\\Firebrowse\\CNV\\gdac.broadinstitute.org_ESCA-TP.CopyNumber_Gistic2.Level_4.2016012800.0.0\\genome.info.6.0_hg19.na31_minus_frequent_nan_probes_sorted_2.1.txt\n107.44\tC:\\Users\\Progi\\Documents\\Genomic Data\\Gastric Carcinoma\\gdac.broadinstitute.org_STAD-TP.CopyNumber_Gistic2.Level_4.2016012800.0.0\\hg19_GENCODE_v18_20140127.mat\n107.44\tC:\\Users\\Progi\\Documents\\Projects\\Genome Project\\Data\\Other Files\\Firebrowse\\CNV\\gdac.broadinstitute.org_ESCA-TP.CopyNumber_Gistic2.Level_4.2016012800.0.0\\hg19_GENCODE_v18_20140127.mat\n29.63\tC:\\Users\\Progi\\Documents\\Genomic Data\\Ubuntu Files\\LUSC.mutations.maf\n29.63\tC:\\Users\\Progi\\Documents\\Projects\\Genome Project\\Data\\Sample Files for Testing\\LUSC.MutSigCV.input.data.v1.0\\LUSC.maf\n257.10\tC:\\Users\\Progi\\Documents\\GitHub\\package\\data\\youtube_database.sqlite\n257.10\tC:\\Users\\Progi\\Documents\\GitHub\\YoutubeAPI\\package\\data\\youtube_database.sqlite\n9.16\tC:\\Users\\Progi\\Documents\\GitHub\\Regions\\package\\data\\local_tables\\american subregions.xlsx\n9.16\tC:\\Users\\Progi\\Google Drive\\Region Data\\Global\\Country Subdivisions\\United States\\american subregions.xlsx\n5.67\tC:\\Users\\Progi\\Documents\\GitHub\\Regions\\package\\data\\local_tables\\fips_codes_website.xls\n5.67\tC:\\Users\\Progi\\Documents\\Github-original\\Regions\\package\\data\\namespaces\\fips_codes_website.xls\n5.67\tC:\\Users\\Progi\\Google Drive\\Region Data\\Namespaces\\FIPS\\fips_codes_website.xls\n6.70\tC:\\Users\\Progi\\Documents\\GitHub\\Regions\\package\\data\\local_tables\\Population of French Subdivisions.xls\n6.70\tC:\\Users\\Progi\\Google Drive\\Region Data\\Global\\Country Subdivisions\\France\\Population of French Subdivisions.xls\n2.06\tC:\\Users\\Progi\\Documents\\GitHub Sandbox\\data\\original\\1790-2010_MASTER.csv\n2.06\tC:\\Users\\Progi\\Google Drive\\Region Data\\Regions\\United States\\Population\\historical-us-city-populations-master\\data\\1790-2010_MASTER.csv\n1.04\tC:\\Users\\Progi\\Documents\\GitHub Sandbox\\data\\original\\UKCPR_National_Welfare_Data_12062016_0.xlsx\n1.04\tC:\\Users\\Progi\\Google Drive\\Region Data\\Global\\Country Subdivisions\\UKCPR_National_Welfare_Data_12062016_0.xlsx\n2.55\tC:\\Users\\Progi\\Documents\\GitHub Sandbox\\data\\original\\World Economic Outlook.xlsx\n2.55\tC:\\Users\\Progi\\Documents\\Github-original\\Region-API\\data\\World Economic Outlook.xlsx\n144.47\tC:\\Users\\Progi\\Documents\\GitHub Sandbox\\data\\originalas\\All City Locations and Populations.csv\n144.47\tC:\\Users\\Progi\\Google Drive\\Region Data\\Global\\World City Populations and Locations\\All City Locations and Populations.csv\n12.68\tC:\\Users\\Progi\\Documents\\Papers\\Barrett's Review Article.pdf\n12.68\tC:\\Users\\Progi\\Documents\\UPMC Files\\Barrett's Review Article.pdf\n12.68\tC:\\Users\\Progi\\Google Drive\\Coding\\Scientific Papers\\Barrett's\\Barrett's Review Article.pdf\n9.47\tC:\\Users\\Progi\\Documents\\Papers\\Comprehensive molecular characterization of gastric adenocarcinoma (Supplement).pdf\n9.47\tC:\\Users\\Progi\\Google Drive\\Coding\\Scientific Papers\\Genomics\\Comprehensive molecular characterization of gastric adenocarcinoma (Supplement).pdf\n3.71\tC:\\Users\\Progi\\Documents\\Papers\\Comprehensive molecular characterization of gastric adenocarcinoma.pdf\n3.71\tC:\\Users\\Progi\\Google Drive\\Coding\\Scientific Papers\\Genomics\\Comprehensive molecular characterization of gastric adenocarcinoma.pdf\n6.96\tC:\\Users\\Progi\\Documents\\Papers\\Emerging landscape (Supplementary).pdf\n6.96\tC:\\Users\\Progi\\Google Drive\\Coding\\Scientific Papers\\Barrett's\\Emerging landscape (Supplementary).pdf\n6.96\tC:\\Users\\Progi\\Google Drive\\Coding\\Scientific Papers\\Genomics\\Emerging landscape (Supplementary).pdf\n1.77\tC:\\Users\\Progi\\Documents\\Papers\\Emerging landscape of oncogenic signatures across human cancers.pdf\n1.77\tC:\\Users\\Progi\\Google Drive\\Coding\\Scientific Papers\\Barrett's\\Emerging landscape of oncogenic signatures across human cancers.pdf\n1.77\tC:\\Users\\Progi\\Google Drive\\Coding\\Scientific Papers\\Genomics\\Emerging landscape of oncogenic signatures across human cancers.pdf\n1.07\tC:\\Users\\Progi\\Documents\\Papers\\Evolution of oesophageal adenocarcinoma from metaplastic columnar epithelium without goblet cells in Barrett’s oesophagus.pdf\n1.07\tC:\\Users\\Progi\\Google Drive\\Coding\\Scientific Papers\\Barrett's\\Evolution of oesophageal adenocarcinoma from metaplastic columnar epithelium without goblet cells in Barrett’s oesophagus.pdf\n101.48\tC:\\Users\\Progi\\Documents\\Projects\\Genome Project\\Data\\Genomic_Analysis\\1_input_vcfs\\TCGA-2H-A9GF\\MuSE\\TCGA-2H-A9GF-11A_vs_TCGA-2H-A9GF-01A.MuSE.txt\n101.48\tC:\\Users\\Progi\\Documents\\Projects\\misc\\input files\\TCGA-2H-A9GF-11A_vs_TCGA-2H-A9GF-01A.MuSE.txt\n27.71\tC:\\Users\\Progi\\Documents\\Projects\\Genome Project\\Data\\Other Files\\Firebrowse\\CNV\\gdac.broadinstitute.org_ESCA-TP.CopyNumber_Gistic2.aux.2016012800.0.0\\GDAC_Gistic2Report_22519035_broad_data_by_genes.txt\n27.71\tC:\\Users\\Progi\\Documents\\Projects\\Genome Project\\Data\\Other Files\\Firebrowse\\CNV\\gdac.broadinstitute.org_ESCA-TP.CopyNumber_Gistic2.aux.2016012800.0.0\\Gistic2_Analysis_22507280_broad_data_by_genes.txt\n14.25\tC:\\Users\\Progi\\Documents\\Projects\\Genome Project\\Data\\Other Files\\Firebrowse\\CNV\\gdac.broadinstitute.org_ESCA-TP.CopyNumber_Gistic2.aux.2016012800.0.0\\GDAC_Gistic2Report_22519035_D.cap1.5.mat\n14.25\tC:\\Users\\Progi\\Documents\\Projects\\Genome Project\\Data\\Other Files\\Firebrowse\\CNV\\gdac.broadinstitute.org_ESCA-TP.CopyNumber_Gistic2.aux.2016012800.0.0\\Gistic2_Analysis_22507280_D.cap1.5.mat\n13.43\tC:\\Users\\Progi\\Documents\\Projects\\Genome Project\\Data\\Other Files\\Firebrowse\\CNV\\gdac.broadinstitute.org_ESCA-TP.CopyNumber_Gistic2.aux.2016012800.0.0\\GDAC_Gistic2Report_22519035_gene_stats.mat\n13.43\tC:\\Users\\Progi\\Documents\\Projects\\Genome Project\\Data\\Other Files\\Firebrowse\\CNV\\gdac.broadinstitute.org_ESCA-TP.CopyNumber_Gistic2.aux.2016012800.0.0\\Gistic2_Analysis_22507280_gene_stats.mat\n12.40\tC:\\Users\\Progi\\Documents\\Projects\\Genome Project\\Data\\Other Files\\Firebrowse\\CNV\\gdac.broadinstitute.org_ESCA-TP.CopyNumber_Gistic2.aux.2016012800.0.0\\GDAC_Gistic2Report_22519035_segmented_data.mat\n12.40\tC:\\Users\\Progi\\Documents\\Projects\\Genome Project\\Data\\Other Files\\Firebrowse\\CNV\\gdac.broadinstitute.org_ESCA-TP.CopyNumber_Gistic2.aux.2016012800.0.0\\Gistic2_Analysis_22507280_segmented_data.mat\n18.03\tC:\\Users\\Progi\\Documents\\Projects\\Genome Project\\Data\\Pipeline Files (Variant Calling)\\Sorted Genelist for DepthofCoverage\\GRCh38-hg38-NCBIRefSeq-UCSCRefSeq-allFieldsFromTable-WholeGene.bed\n18.03\tC:\\Users\\Progi\\Documents\\Projects\\Genome Project\\Data\\Pipeline Files (Variant Calling)\\Sorted Genelist for DepthofCoverage\\GRCh38-hg38-NCBIRefSeq-UCSCRefSeq-allFieldsFromTable.bed\n18.03\tC:\\Users\\Progi\\Google Drive\\Genomics\\GRCh38-hg38-NCBIRefSeq-UCSCRefSeq-allFieldsFromTable-WholeGene.bed\n280.21\tC:\\Users\\Progi\\Documents\\Projects\\Genome Project\\Data\\Tool files\\MutSigCV\\exome_full192.coverage.txt\n280.21\tC:\\Users\\Progi\\Downloads\\Genomic Programs\\MutSigCV\\exome_full192.coverage\\exome_full192.coverage.txt\n32.68\tC:\\Users\\Progi\\Documents\\Projects\\Genome Project\\Data\\Tool files\\MutSigCV\\exome_full192.coverage.zip\n32.68\tC:\\Users\\Progi\\Downloads\\Genomic Programs\\MutSigCV\\exome_full192.coverage.zip\n1.25\tC:\\Users\\Progi\\Documents\\Projects\\Genome Project\\Papers\\Copy number arrays and other topics in .pdf\n1.25\tC:\\Users\\Progi\\Downloads\\Genomic Programs\\Scripts\\Circular Binary Segmentation\\bmi209fall06-lecture4.pdf\n2.65\tC:\\Users\\Progi\\Documents\\Projects\\Genome Project\\Papers\\GATK Presentations\\GATKwr8-A-3-GATK_Best_Practices_and_Broad_pipelines - Copy.pdf\n2.65\tC:\\Users\\Progi\\Documents\\Projects\\Genome Project\\Papers\\GATK Presentations\\GATKwr8-A-3-GATK_Best_Practices_and_Broad_pipelines.pdf\n24.71\tC:\\Users\\Progi\\Documents\\TOSHIBA FLASH DRIVE BACKUP\\ubninit\n24.71\tC:\\Users\\Progi\\Documents\\TOSHIBA FLASH DRIVE BACKUP\\casper\\initrd.lz\n6.69\tC:\\Users\\Progi\\Documents\\TOSHIBA FLASH DRIVE BACKUP\\ubnkern\n6.69\tC:\\Users\\Progi\\Documents\\TOSHIBA FLASH DRIVE BACKUP\\casper\\vmlinuz\n6.76\tC:\\Users\\Progi\\Documents\\UPMC Files\\Data\\Biopsies_2017-04-12_A.txt\n6.76\tC:\\Users\\Progi\\Documents\\UPMC Files\\Notebooks\\data\\shared\\Barrett Outcomes Biopsy Table 2017-04-12.txt\n34.04\tC:\\Users\\Progi\\Documents\\UPMC Files\\Database\\Updates\\Biopsies (All).xlsx\n34.04\tC:\\Users\\Progi\\Documents\\UPMC Files\\Database\\Updates\\Dysplasia Update\\Esophagus Biopsies\\Biopsies (All).xlsx\n39.03\tC:\\Users\\Progi\\Documents\\UPMC Files\\Datasets\\Combined Database V4.1.0 (2016-09-15).pkl\n39.03\tC:\\Users\\Progi\\Documents\\UPMC Files\\Datasets\\Combined Database V4.1.0 (2016-09-18).pkl\n19.51\tC:\\Users\\Progi\\Documents\\UPMC Files\\Datasets\\Backup\\Patient Database V1.0 (2015-11-25).pkl\n19.51\tC:\\Users\\Progi\\Dropbox\\Professional\\Archive\\UPITT\\Database\\Pitt Database 2015-11-25.pkl\n1.98\tC:\\Users\\Progi\\Documents\\UPMC Files\\MARS Files\\Misc Files\\allmrns.who\n1.98\tC:\\Users\\Progi\\Documents\\UPMC Files\\MARS Files\\Misc Files\\deitrickc.who\n8.62\tC:\\Users\\Progi\\Downloads\\gdc-client.exe\n8.62\tC:\\Users\\Progi\\Downloads\\Downloads\\gdc-client.exe\n8.62\tC:\\Users\\Progi\\Downloads\\gdc-client_v1.2.0_Windows_x64\\gdc-client.exe\n8.62\tC:\\Users\\Progi\\Downloads\\Genomic Programs\\gdc-client\\gdc-client.exe\n8.18\tC:\\Users\\Progi\\Downloads\\gdc-client_v1.2.0_Windows_x64(1).zip\n8.18\tC:\\Users\\Progi\\Downloads\\gdc-client_v1.2.0_Windows_x64.zip\n8.18\tC:\\Users\\Progi\\Downloads\\Genomic Programs\\gdc-client_v1.2.0_Windows_x64.zip.zip\n10.06\tC:\\Users\\Progi\\Downloads\\mutect-1.1.7.jar.zip\n10.06\tC:\\Users\\Progi\\Google Drive\\Genomics\\mutect-1.1.7.jar.zip\n3.77\tC:\\Users\\Progi\\Downloads\\wget64.exe\n3.77\tC:\\Users\\Progi\\Downloads\\Websites\\wget64.exe\n13.22\tC:\\Users\\Progi\\Downloads\\Genomic Programs\\GenomeAnalysisTK-3.7\\GenomeAnalysisTK.jar\n13.22\tC:\\Users\\Progi\\Google Drive\\Genomics\\GATK3.7.jar\n23.15\tC:\\Users\\Progi\\Downloads\\Genomic Programs\\somaticseq-master\\Run_5_callers\\individual_callers\\whole_genome_per5K.bed\n23.15\tC:\\Users\\Progi\\Google Drive\\Genomics\\somaticseq\\Run_5_callers\\individual_callers\\whole_genome_per5K.bed\n2.52\tC:\\Users\\Progi\\Dropbox\\Apps\\Desktoppr\\1280_castalo-2014-08-06-0306.jpg\n2.52\tC:\\Users\\Progi\\Google Drive\\Google Photos\\1280_castalo-2014-08-06-0306.jpg\n1.68\tC:\\Users\\Progi\\Dropbox\\Apps\\Desktoppr\\c3bd6c339e3cf7e95d51bd9c6e.jpg\n1.68\tC:\\Users\\Progi\\Dropbox\\Camera Uploads\\2012-07-26 22.11.56.jpg\n3.76\tC:\\Users\\Progi\\Dropbox\\Apps\\Desktoppr\\oraw7y7-2016-10-03-0448.png\n3.76\tC:\\Users\\Progi\\Google Drive\\Google Photos\\oraw7y7-2016-10-03-0448.png\n2.99\tC:\\Users\\Progi\\Dropbox\\Apps\\Desktoppr\\wallpaper702248-2013-08-22-0154.jpg\n2.99\tC:\\Users\\Progi\\Google Drive\\Google Photos\\wallpaper702248-2013-08-22-0154.jpg\n1.08\tC:\\Users\\Progi\\Dropbox\\Apps\\Desktoppr\\Abstract Wallpapers\\Colorful Butterflies.jpg\n1.08\tC:\\Users\\Progi\\OneDrive\\Pictures\\Pictures\\Abstract Wallpapers\\Colorful Butterflies.jpg\n1.08\tC:\\Users\\Progi\\OneDrive\\Pictures\\Pictures\\Wallpapers\\Abstract Wallpapers\\Colorful Butterflies.jpg\n1.08\tC:\\Users\\Progi\\OneDrive\\Wallpapers\\Abstract Wallpapers\\Colorful Butterflies.jpg\n2.05\tC:\\Users\\Progi\\Dropbox\\Apps\\Desktoppr\\Abstract Wallpapers\\Like_the_wind_by_webby85.jpg\n2.05\tC:\\Users\\Progi\\OneDrive\\Pictures\\Pictures\\Wallpapers\\Abstract Wallpapers\\Like_the_wind_by_webby85.jpg\n2.05\tC:\\Users\\Progi\\OneDrive\\Wallpapers\\Abstract Wallpapers\\Like_the_wind_by_webby85.jpg\n"
     ]
    },
    {
     "name": "stdout",
     "output_type": "stream",
     "text": [
      "1.25\tC:\\Users\\Progi\\Dropbox\\Apps\\Desktoppr\\Abstract Wallpapers\\Limbo.jpg\n1.25\tC:\\Users\\Progi\\OneDrive\\Pictures\\Pictures\\Abstract Wallpapers\\Limbo.jpg\n1.25\tC:\\Users\\Progi\\OneDrive\\Pictures\\Pictures\\Wallpapers\\Abstract Wallpapers\\Limbo.jpg\n1.25\tC:\\Users\\Progi\\OneDrive\\Wallpapers\\Abstract Wallpapers\\Limbo.jpg\n1.05\tC:\\Users\\Progi\\Dropbox\\Apps\\Desktoppr\\Abstract Wallpapers\\splaters_islan.jpg\n1.05\tC:\\Users\\Progi\\OneDrive\\Pictures\\Pictures\\Wallpapers\\Abstract Wallpapers\\splaters_islan.jpg\n1.36\tC:\\Users\\Progi\\Dropbox\\Apps\\Desktoppr\\Interfacelift Widescreen\\Age is Beauty.jpg\n1.36\tC:\\Users\\Progi\\OneDrive\\Wallpapers\\Interfacelift Widescreen\\Age is Beauty.jpg\n6.59\tC:\\Users\\Progi\\Dropbox\\Apps\\Desktoppr\\Interfacelift Widescreen\\American Flag.bmp\n6.59\tC:\\Users\\Progi\\OneDrive\\Wallpapers\\Interfacelift Widescreen\\American Flag.bmp\n1.37\tC:\\Users\\Progi\\Dropbox\\Apps\\Desktoppr\\Interfacelift Widescreen\\Blue Eagle.jpg\n1.37\tC:\\Users\\Progi\\OneDrive\\Wallpapers\\Interfacelift Widescreen\\Blue Eagle.jpg\n1.98\tC:\\Users\\Progi\\Dropbox\\Apps\\Desktoppr\\Interfacelift Widescreen\\Castle of Decay.jpg\n1.98\tC:\\Users\\Progi\\OneDrive\\Wallpapers\\Interfacelift Widescreen\\Castle of Decay.jpg\n6.59\tC:\\Users\\Progi\\Dropbox\\Apps\\Desktoppr\\Interfacelift Widescreen\\Colors Make Life Better.bmp\n6.59\tC:\\Users\\Progi\\OneDrive\\Wallpapers\\Interfacelift Widescreen\\Colors Make Life Better.bmp\n1.85\tC:\\Users\\Progi\\Dropbox\\Apps\\Desktoppr\\Interfacelift Widescreen\\Cosmosition.jpg\n1.85\tC:\\Users\\Progi\\OneDrive\\Wallpapers\\Interfacelift Widescreen\\Cosmosition.jpg\n11.72\tC:\\Users\\Progi\\Dropbox\\Apps\\Desktoppr\\Interfacelift Widescreen\\For the Love of Music.bmp\n11.72\tC:\\Users\\Progi\\OneDrive\\Wallpapers\\Interfacelift Widescreen\\For the Love of Music.bmp\n1.42\tC:\\Users\\Progi\\Dropbox\\Apps\\Desktoppr\\Interfacelift Widescreen\\Life Returns.jpg\n1.42\tC:\\Users\\Progi\\OneDrive\\Wallpapers\\Interfacelift Widescreen\\Life Returns.jpg\n2.91\tC:\\Users\\Progi\\Dropbox\\Apps\\Desktoppr\\Interfacelift Widescreen\\Moraine Lake.jpg\n2.91\tC:\\Users\\Progi\\OneDrive\\Wallpapers\\Interfacelift Widescreen\\Moraine Lake.jpg\n1.83\tC:\\Users\\Progi\\Dropbox\\Apps\\Desktoppr\\Interfacelift Widescreen\\New York City.jpg\n1.83\tC:\\Users\\Progi\\OneDrive\\Wallpapers\\Interfacelift Widescreen\\New York City.jpg\n1.40\tC:\\Users\\Progi\\Dropbox\\Apps\\Desktoppr\\Interfacelift Widescreen\\Red Eagle.jpg\n1.40\tC:\\Users\\Progi\\OneDrive\\Wallpapers\\Interfacelift Widescreen\\Red Eagle.jpg\n2.04\tC:\\Users\\Progi\\Dropbox\\Apps\\Desktoppr\\Interfacelift Widescreen\\Same Dog.jpg\n2.04\tC:\\Users\\Progi\\OneDrive\\Wallpapers\\Interfacelift Widescreen\\Same Dog.jpg\n2.10\tC:\\Users\\Progi\\Dropbox\\Camera Uploads\\2013-02-01 16.21.41.jpg\n2.10\tC:\\Users\\Progi\\Google Drive\\Google Photos\\2013-02-01 16.21.41.jpg\n1.60\tC:\\Users\\Progi\\Dropbox\\Camera Uploads\\2013-08-24 20.47.36.jpg\n1.60\tC:\\Users\\Progi\\Google Drive\\Google Photos\\2013-08-24 20.47.36.jpg\n1.17\tC:\\Users\\Progi\\Dropbox\\Camera Uploads\\2015-02-11 22.33.39.jpg\n1.17\tC:\\Users\\Progi\\Google Drive\\Google Photos\\IMG_0003 (1).JPG\n1.17\tC:\\Users\\Progi\\Google Drive\\Google Photos\\IMG_0003 (2).JPG\n21.62\tC:\\Users\\Progi\\Dropbox\\Camera Uploads\\2015-07-03 16.35.25.mov\n21.62\tC:\\Users\\Progi\\Google Drive\\Google Photos\\IMG_0008.MOV\n3.51\tC:\\Users\\Progi\\Dropbox\\Camera Uploads\\2015-09-28 14.08.48.jpg\n3.51\tC:\\Users\\Progi\\Google Drive\\Google Photos\\IMG_0010 (2).JPG\n3.61\tC:\\Users\\Progi\\Dropbox\\Camera Uploads\\2015-09-28 14.09.35.jpg\n3.61\tC:\\Users\\Progi\\Google Drive\\Google Photos\\IMG_0011 (1).JPG\n3.57\tC:\\Users\\Progi\\Dropbox\\Camera Uploads\\2015-10-19 12.58.50.jpg\n3.57\tC:\\Users\\Progi\\Google Drive\\Google Photos\\IMG_0012 (1).JPG\n2.20\tC:\\Users\\Progi\\Dropbox\\Camera Uploads\\2015-12-01 12.44.48.jpg\n2.20\tC:\\Users\\Progi\\Google Drive\\Google Photos\\IMG_0015 (2).JPG\n1.30\tC:\\Users\\Progi\\Dropbox\\Camera Uploads\\2015-12-01 12.44.52.jpg\n1.30\tC:\\Users\\Progi\\Google Drive\\Google Photos\\IMG_0016 (1).JPG\n4.00\tC:\\Users\\Progi\\Dropbox\\Camera Uploads\\2015-12-03 19.20.22.jpg\n4.00\tC:\\Users\\Progi\\Google Drive\\Google Photos\\IMG_0017 (2).JPG\n2.67\tC:\\Users\\Progi\\Dropbox\\Camera Uploads\\2015-12-03 19.20.30.jpg\n2.67\tC:\\Users\\Progi\\Google Drive\\Google Photos\\IMG_0018 (1).JPG\n1.68\tC:\\Users\\Progi\\Dropbox\\Camera Uploads\\2015-12-07 22.13.41.jpg\n1.68\tC:\\Users\\Progi\\Google Drive\\Google Photos\\IMG_0020.JPG\n1.90\tC:\\Users\\Progi\\Dropbox\\Camera Uploads\\2015-12-30 08.46.18.jpg\n1.90\tC:\\Users\\Progi\\Google Drive\\Google Photos\\IMG_0030 (1).JPG\n2.66\tC:\\Users\\Progi\\Dropbox\\Camera Uploads\\2015-12-30 16.47.11.jpg\n2.66\tC:\\Users\\Progi\\Google Drive\\Google Photos\\IMG_0031.JPG\n2.08\tC:\\Users\\Progi\\Dropbox\\Camera Uploads\\2015-12-30 16.47.19.jpg\n2.08\tC:\\Users\\Progi\\Google Drive\\Google Photos\\IMG_0032.JPG\n10.52\tC:\\Users\\Progi\\Dropbox\\Professional\\Archive\\Grad Stuff\\CD Transcript.pdf\n10.52\tC:\\Users\\Progi\\Google Drive\\Academic Documents\\Lectures\\Grad Stuff\\CD Transcript.pdf\n7.26\tC:\\Users\\Progi\\Dropbox\\Professional\\Archive\\Grad Stuff\\CD Transcript_opt.pdf\n7.26\tC:\\Users\\Progi\\Google Drive\\Academic Documents\\Lectures\\Grad Stuff\\CD Transcript_opt.pdf\n2.83\tC:\\Users\\Progi\\Dropbox\\Professional\\Archive\\Grad Stuff\\Chris Deitrick Transcript_001.png\n2.83\tC:\\Users\\Progi\\Google Drive\\Academic Documents\\Lectures\\Grad Stuff\\Chris Deitrick Transcript_001.png\n2.80\tC:\\Users\\Progi\\Dropbox\\Professional\\Archive\\Grad Stuff\\Chris Deitrick Transcript_002.png\n2.80\tC:\\Users\\Progi\\Google Drive\\Academic Documents\\Lectures\\Grad Stuff\\Chris Deitrick Transcript_002.png\n1.32\tC:\\Users\\Progi\\Dropbox\\Professional\\Archive\\Grad Stuff\\Chris Deitrick Transcript_003.png\n1.32\tC:\\Users\\Progi\\Google Drive\\Academic Documents\\Lectures\\Grad Stuff\\Chris Deitrick Transcript_003.png\n5.42\tC:\\Users\\Progi\\Dropbox\\Professional\\Archive\\Grad Stuff\\Chris Deitrick Transcript_004.png\n5.42\tC:\\Users\\Progi\\Google Drive\\Academic Documents\\Lectures\\Grad Stuff\\Chris Deitrick Transcript_004.png\n38.78\tC:\\Users\\Progi\\Google Drive\\Coding\\Python\\ffprobe.exe\n38.78\tC:\\Users\\Progi\\Google Drive\\Coding\\Python\\ffmpeg-20170327-d65b595-win64-static\\bin\\ffprobe.exe\n2.75\tC:\\Users\\Progi\\Google Drive\\Google Photos\\IMG_0004 (1).JPG\n2.75\tC:\\Users\\Progi\\Google Drive\\Google Photos\\IMG_0004.JPG\n2.94\tC:\\Users\\Progi\\Google Drive\\Google Photos\\IMG_0005 (1).JPG\n2.94\tC:\\Users\\Progi\\Google Drive\\Google Photos\\IMG_0005 (2).JPG\n3.03\tC:\\Users\\Progi\\Google Drive\\Google Photos\\IMG_0006 (1).JPG\n3.03\tC:\\Users\\Progi\\Google Drive\\Google Photos\\IMG_0006.JPG\n1.85\tC:\\Users\\Progi\\Google Drive\\Google Photos\\IMG_0007 (1).JPG\n1.85\tC:\\Users\\Progi\\Google Drive\\Google Photos\\IMG_0007.JPG\n1.23\tC:\\Users\\Progi\\Google Drive\\Google Photos\\Surreal Snowy Sunset in Fitz Roy, Argentina .jpg\n1.23\tC:\\Users\\Progi\\OneDrive\\Reddit\\Earthporn\\Surreal Snowy Sunset in Fitz Roy, Argentina .jpg\n3.46\tC:\\Users\\Progi\\Google Drive\\Jupyter Notebooks\\Untitled.ipynb\n3.46\tC:\\Users\\Progi\\Google Drive\\Jupyter Notebooks\\.ipynb_checkpoints\\Untitled-checkpoint.ipynb\n18.47\tC:\\Users\\Progi\\Google Drive\\Region Data\\Regions\\United States\\Population\\Population Projections\\Processed\\Projections of the Population of the United States - 1975 to 2050.pdf\n18.47\tC:\\Users\\Progi\\Google Drive\\Region Data\\Regions\\United States\\Population\\Population Projections\\Processed\\Projections of the Population of the United States 1975 to 2050.pdf\n2.64\tC:\\Users\\Progi\\OneDrive\\Maps\\712130main_8246931247_e60f3c09fb_o.jpg\n2.64\tC:\\Users\\Progi\\OneDrive\\Maps\\Earth at Night 2012.jpg\n1.26\tC:\\Users\\Progi\\OneDrive\\Maps\\Relief Maps\\01 - vzGhITt.jpg\n1.26\tC:\\Users\\Progi\\OneDrive\\Maps\\Relief Maps\\North America.jpg\n2.11\tC:\\Users\\Progi\\OneDrive\\Pictures\\Pictures\\Vlad Studios 1200 x 1600\\vladstudio_qr_wisdom_4_1600x1200_signed.jpg\n2.11\tC:\\Users\\Progi\\OneDrive\\Wallpapers\\Vlad Studios 1200 x 1600\\vladstudio_qr_wisdom_4_1600x1200_signed.jpg\n62.54\tC:\\Users\\Progi\\OneDrive\\Podcasts\\Dude Soup\\Dude Soup #80 - Justice League.mp3\n62.54\tC:\\Users\\Progi\\OneDrive\\Podcasts\\Dude Soup\\Dude Soup Podcast #80 - Justice League.mp3\n24.31\tC:\\Users\\Progi\\OneDrive\\Podcasts\\Roosterteeth Podcast\\Roosterteeth Podcast #059.5 - RT is giving away a Halo Reach beta code.mp3\n24.31\tC:\\Users\\Progi\\OneDrive\\Podcasts\\Roosterteeth Podcast\\Roosterteeth Podcast #060 - RT is kinda chill and honestly all over the place this week.mp3\n58.90\tC:\\Users\\Progi\\OneDrive\\Podcasts\\Test Podcasts\\Canned\\Imaginary Worlds - Episode 31 - The Expanded Universe.mp3\n58.90\tC:\\Users\\Progi\\OneDrive\\Podcasts\\Test Podcasts\\Not OK\\Imaginary Worlds - Episode 31 - The Expanded Universe.mp3\n18.74\tC:\\Users\\Progi\\OneDrive\\Podcasts\\Test Podcasts\\Canned\\Planet Money - Episode 66 - If Elected President.mp3\n18.74\tC:\\Users\\Progi\\OneDrive\\Podcasts\\Test Podcasts\\Not OK\\Planet Money - Episode 66 - If Elected President.mp3\n37.60\tC:\\Users\\Progi\\OneDrive\\Podcasts\\Test Podcasts\\Canned\\Surprisingly Awesome - Episode 3 - Concrete.mp3\n37.60\tC:\\Users\\Progi\\OneDrive\\Podcasts\\Test Podcasts\\Not OK\\Surprisingly Awesome - Episode 3 - Concrete.mp3\n3.63\tC:\\Users\\Progi\\OneDrive\\Reddit\\Aww\\8NrhmaQ.mp4\n3.63\tC:\\Users\\Progi\\OneDrive\\Reddit\\DogPictures\\8NrhmaQ (1).mp4\n1.63\tC:\\Users\\Progi\\OneDrive\\Reddit\\CityPorn\\Lombard Street in San Francisco.jpg\n1.63\tC:\\Users\\Progi\\OneDrive\\Reddit\\CityPorn\\San Fransisco\\Lombard Street in San Francisco.jpg\n"
     ]
    }
   ],
   "source": [
    "for duplicate_files in parser.duplicates:\n",
    "\tfile_size = os.path.getsize(duplicate_files[0])\n",
    "\tif file_size > 1024**2:\n",
    "\t\tfor i in duplicate_files:\n",
    "\t\t\tif i.split('.')[-1] not in ['dll', 'dic', 'lib']:\n",
    "\t\t\t\tprint(\"{:.2f}\\t{}\".format(file_size/1024**2, i))"
   ]
  },
  {
   "cell_type": "code",
   "execution_count": null,
   "metadata": {},
   "outputs": [],
   "source": []
  }
 ],
 "metadata": {
  "kernelspec": {
   "display_name": "Python 2",
   "language": "python",
   "name": "python2"
  },
  "language_info": {
   "codemirror_mode": {
    "name": "ipython",
    "version": 2
   },
   "file_extension": ".py",
   "mimetype": "text/x-python",
   "name": "python",
   "nbconvert_exporter": "python",
   "pygments_lexer": "ipython2",
   "version": "2.7.6"
  }
 },
 "nbformat": 4,
 "nbformat_minor": 0
}
