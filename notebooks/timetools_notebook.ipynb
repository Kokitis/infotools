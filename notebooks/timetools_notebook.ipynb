{
 "cells": [
  {
   "cell_type": "code",
   "execution_count": null,
   "metadata": {
    "collapsed": true
   },
   "outputs": [],
   "source": [
    "from pprint import pprint\n",
    "date_formats = [\n",
    "\t'02/27/2013',\n",
    "\t'02/27/13',\n",
    "\t'27/02/2013',\n",
    "\t'27/02/13',\n",
    "\t'20130227',\n",
    "\t'2013.02.27',\n",
    "\t'27.02.13',\n",
    "\t'27-02-13',\n",
    "\t'27.2.13',\n",
    "\t'2013.158904109'\n",
    "]"
   ]
  }
 ],
 "metadata": {
  "kernelspec": {
   "display_name": "Python 2",
   "language": "python",
   "name": "python2"
  },
  "language_info": {
   "codemirror_mode": {
    "name": "ipython",
    "version": 2
   },
   "file_extension": ".py",
   "mimetype": "text/x-python",
   "name": "python",
   "nbconvert_exporter": "python",
   "pygments_lexer": "ipython2",
   "version": "2.7.6"
  }
 },
 "nbformat": 4,
 "nbformat_minor": 0
}
