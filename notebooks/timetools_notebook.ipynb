{
 "cells": [
  {
   "cell_type": "code",
   "execution_count": null,
   "metadata": {
    "collapsed": true
   },
   "outputs": [],
   "source": [
    "\n",
    "import package.timetools as timetools\n",
    "date_formats = {\n",
    "\t'isoDatetimes': [\n",
    "\t\t'1995-09-13T09:12:25',\n",
    "\t\t'1995-09-13 09:12:25'\n",
    "\t],\n",
    "\t'isoDates':     [\n",
    "\t\t'1995-09-13',\n",
    "\t\t'1066-09-28'\n",
    "\t],\n",
    "\t'isoTimes':     [\n",
    "\t\t'09:12:25'\n",
    "\t],\n",
    "\t'commonDates':  [\n",
    "\t\t'2/27/2018',\n",
    "\t\t'27/2/2018'  #These should work, since they are not completely ambiguous\n",
    "\t]\n",
    "}\n",
    "\n",
    "for category, examples in date_formats.items():\n",
    "\tprint(category)\n",
    "\tfor example in examples:\n",
    "\t\tt = timetools.Timestamp(example)\n",
    "\t\tprint(\"\\t{} -> {}\".format(example, t))\n"
   ]
  }
 ],
 "metadata": {
  "kernelspec": {
   "display_name": "Python 2",
   "language": "python",
   "name": "python2"
  },
  "language_info": {
   "codemirror_mode": {
    "name": "ipython",
    "version": 2
   },
   "file_extension": ".py",
   "mimetype": "text/x-python",
   "name": "python",
   "nbconvert_exporter": "python",
   "pygments_lexer": "ipython2",
   "version": "2.7.6"
  }
 },
 "nbformat": 4,
 "nbformat_minor": 0
}
